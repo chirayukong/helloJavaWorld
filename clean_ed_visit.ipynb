{
 "cells": [
  {
   "cell_type": "code",
   "execution_count": 1,
   "metadata": {
    "collapsed": true
   },
   "outputs": [],
   "source": [
    "import os\n",
    "import pandas as pd"
   ]
  },
  {
   "cell_type": "code",
   "execution_count": 2,
   "metadata": {
    "collapsed": true
   },
   "outputs": [],
   "source": [
    "import sys"
   ]
  },
  {
   "cell_type": "code",
   "execution_count": 94,
   "metadata": {
    "collapsed": true
   },
   "outputs": [],
   "source": [
    "visit_path = os.path.join(os.getcwd(), 'ed_visits.txt')\n",
    "visit = open(visit_path, 'r')"
   ]
  },
  {
   "cell_type": "code",
   "execution_count": 95,
   "metadata": {
    "collapsed": true
   },
   "outputs": [],
   "source": [
    "header = visit.readline()"
   ]
  },
  {
   "cell_type": "code",
   "execution_count": 96,
   "metadata": {
    "collapsed": false
   },
   "outputs": [
    {
     "data": {
      "text/plain": [
       "'\"empi\"$\"visit_date\"$\"admit_date\"$\"discharge_date\"$\"length_of_stay\"$\"principal_dia_code\"$\"principal_dia_name\"$\"additional_dia_code\"$\"note_text\"\\n'"
      ]
     },
     "execution_count": 96,
     "metadata": {},
     "output_type": "execute_result"
    }
   ],
   "source": [
    "header"
   ]
  },
  {
   "cell_type": "code",
   "execution_count": 97,
   "metadata": {
    "collapsed": true
   },
   "outputs": [],
   "source": [
    "content = visit.readlines()"
   ]
  },
  {
   "cell_type": "code",
   "execution_count": 98,
   "metadata": {
    "collapsed": false
   },
   "outputs": [],
   "source": [
    "content = ''.join(content)"
   ]
  },
  {
   "cell_type": "code",
   "execution_count": 116,
   "metadata": {
    "collapsed": false
   },
   "outputs": [],
   "source": [
    "records = content.split(\"[report_end]\\n\\\"\")\n",
    "records = records[:-1] # No info in the last record"
   ]
  },
  {
   "cell_type": "code",
   "execution_count": 117,
   "metadata": {
    "collapsed": false
   },
   "outputs": [
    {
     "data": {
      "text/plain": [
       "869"
      ]
     },
     "execution_count": 117,
     "metadata": {},
     "output_type": "execute_result"
    }
   ],
   "source": [
    "len(records)"
   ]
  },
  {
   "cell_type": "code",
   "execution_count": 118,
   "metadata": {
    "collapsed": true
   },
   "outputs": [],
   "source": [
    "def removespecialchar(string):\n",
    "    return ''.join(e for e in string if (e.isalnum() or e == ' ' or e == '-' or e == '.' or e == '/' or e == ':'))"
   ]
  },
  {
   "cell_type": "code",
   "execution_count": 124,
   "metadata": {
    "collapsed": false
   },
   "outputs": [],
   "source": [
    "new_visit_path = os.path.join(os.getcwd(), 'ed_visits_clean.txt')\n",
    "visit_clean = open(new_visit_path, 'w')\n",
    "\n",
    "for record_no in range(0,len(records)):\n",
    "    record = records[record_no]\n",
    "    chunk = record.split('[report_beginning]\\n')\n",
    "    field = chunk[0].split('$')\n",
    "    \n",
    "    lower_chunk = chunk[1].split('\\n\\n')\n",
    "    sub_field = lower_chunk[0].split('|')\n",
    "    for i in range(0,len(sub_field)):\n",
    "        field.append(sub_field[i].strip())\n",
    "    \n",
    "    # Comment\n",
    "    field.append(lower_chunk[1].strip())\n",
    "    \n",
    "    # Allergies\n",
    "    allergy = lower_chunk[2].replace('ALLERGIES:','',1).strip()\n",
    "    field.append(allergy)\n",
    "    \n",
    "    # Social history\n",
    "    social_history = lower_chunk[3].replace('SOCIAL HISTORY:','',1).strip()\n",
    "    field.append(social_history)\n",
    "    \n",
    "    # Physical Exam\n",
    "    exam = lower_chunk[4].replace('PHYSICAL EXAMINATION:','',1).strip()\n",
    "    field.append(exam)\n",
    "    \n",
    "    # Emergency\n",
    "    emergency = lower_chunk[5].replace('EMERGENCY DEPARTMENT COURSE:','',1).strip()\n",
    "    field.append(emergency)\n",
    "    \n",
    "    # DISPOSITION\n",
    "    disposit = lower_chunk[6].replace('DISPOSITION:','',1).strip()\n",
    "    field.append(disposit)\n",
    "    \n",
    "    for col in range(0,len(field)):\n",
    "        if(col != 0):\n",
    "            visit_clean.write('\\t')\n",
    "        visit_clean.write('%s' % removespecialchar(field[col]))\n",
    "        \n",
    "    visit_clean.write('\\n')"
   ]
  },
  {
   "cell_type": "code",
   "execution_count": 130,
   "metadata": {
    "collapsed": false
   },
   "outputs": [],
   "source": [
    "dframe = pd.read_table(new_visit_path, sep=\"\\t\", header = None)"
   ]
  },
  {
   "cell_type": "code",
   "execution_count": 131,
   "metadata": {
    "collapsed": false
   },
   "outputs": [
    {
     "data": {
      "text/html": [
       "<div>\n",
       "<table border=\"1\" class=\"dataframe\">\n",
       "  <thead>\n",
       "    <tr style=\"text-align: right;\">\n",
       "      <th></th>\n",
       "      <th>0</th>\n",
       "      <th>1</th>\n",
       "      <th>2</th>\n",
       "      <th>3</th>\n",
       "      <th>4</th>\n",
       "      <th>5</th>\n",
       "      <th>6</th>\n",
       "      <th>7</th>\n",
       "      <th>8</th>\n",
       "      <th>9</th>\n",
       "      <th>...</th>\n",
       "      <th>11</th>\n",
       "      <th>12</th>\n",
       "      <th>13</th>\n",
       "      <th>14</th>\n",
       "      <th>15</th>\n",
       "      <th>16</th>\n",
       "      <th>17</th>\n",
       "      <th>18</th>\n",
       "      <th>19</th>\n",
       "      <th>20</th>\n",
       "    </tr>\n",
       "  </thead>\n",
       "  <tbody>\n",
       "    <tr>\n",
       "      <th>0</th>\n",
       "      <td>940785937</td>\n",
       "      <td>2013-05-14</td>\n",
       "      <td>2013-05-14 23:59:19</td>\n",
       "      <td>2013-05-15 00:52:57</td>\n",
       "      <td>54</td>\n",
       "      <td>724.2</td>\n",
       "      <td>Lumbago</td>\n",
       "      <td>719.46786.2786.2V62.85</td>\n",
       "      <td>NaN</td>\n",
       "      <td>940785937</td>\n",
       "      <td>...</td>\n",
       "      <td>final</td>\n",
       "      <td>Waldorff Kim M.D.</td>\n",
       "      <td>39222202</td>\n",
       "      <td>Major Academic Center</td>\n",
       "      <td>Ms.Mozingo is a 58 year-old patient who comes ...</td>\n",
       "      <td>none</td>\n",
       "      <td>The patient Ms.Mozingo is a past smoker who ha...</td>\n",
       "      <td>Blood pressure 140/60 pulse 55 respiratory rat...</td>\n",
       "      <td>I confirm that I have seen and evaluated the p...</td>\n",
       "      <td>The patient was placed in ED observation with ...</td>\n",
       "    </tr>\n",
       "    <tr>\n",
       "      <th>1</th>\n",
       "      <td>412857024</td>\n",
       "      <td>2012-01-20</td>\n",
       "      <td>2012-01-20 22:53:54</td>\n",
       "      <td>2012-01-21 02:51:49</td>\n",
       "      <td>238</td>\n",
       "      <td>781.0</td>\n",
       "      <td>Abnormal involuntary movements</td>\n",
       "      <td>NaN</td>\n",
       "      <td>NaN</td>\n",
       "      <td>412857024</td>\n",
       "      <td>...</td>\n",
       "      <td>final</td>\n",
       "      <td>Jameson Jan M.D.</td>\n",
       "      <td>64675539</td>\n",
       "      <td>Major Academic Center</td>\n",
       "      <td>Ms.Mccranie is a 95 year-old patient who comes...</td>\n",
       "      <td>present</td>\n",
       "      <td>The patient Ms.Mccranie is a current smoker wh...</td>\n",
       "      <td>Blood pressure 162/87 pulse 70 respiratory rat...</td>\n",
       "      <td>I confirm that I have seen and evaluated the p...</td>\n",
       "      <td>The patient was admitted to the hospital with ...</td>\n",
       "    </tr>\n",
       "    <tr>\n",
       "      <th>2</th>\n",
       "      <td>285331782</td>\n",
       "      <td>2011-12-09</td>\n",
       "      <td>2011-12-09 12:54:56</td>\n",
       "      <td>2011-12-09 17:37:59</td>\n",
       "      <td>283</td>\n",
       "      <td>786.59</td>\n",
       "      <td>Other chest pain</td>\n",
       "      <td>996.73719.46724.2959.09</td>\n",
       "      <td>NaN</td>\n",
       "      <td>285331782</td>\n",
       "      <td>...</td>\n",
       "      <td>final</td>\n",
       "      <td>Patel Monica M.D.</td>\n",
       "      <td>80312742</td>\n",
       "      <td>Major Academic Center</td>\n",
       "      <td>Ms.Wheeler is a 56 year-old patient who comes ...</td>\n",
       "      <td>none</td>\n",
       "      <td>The patient Ms.Wheeler is a current smoker who...</td>\n",
       "      <td>Blood pressure 154/93 pulse 60 respiratory rat...</td>\n",
       "      <td>I confirm that I have seen and evaluated the p...</td>\n",
       "      <td>The patient was admitted to the hospital with ...</td>\n",
       "    </tr>\n",
       "    <tr>\n",
       "      <th>3</th>\n",
       "      <td>916658044</td>\n",
       "      <td>2011-05-23</td>\n",
       "      <td>2011-05-23 14:12:04</td>\n",
       "      <td>2011-05-23 21:21:44</td>\n",
       "      <td>430</td>\n",
       "      <td>780.4</td>\n",
       "      <td>Dizziness and giddiness</td>\n",
       "      <td>719.46820.8789.01780.50</td>\n",
       "      <td>NaN</td>\n",
       "      <td>916658044</td>\n",
       "      <td>...</td>\n",
       "      <td>final</td>\n",
       "      <td>Smith Jonathan M.D.</td>\n",
       "      <td>85382431</td>\n",
       "      <td>Major Academic Center</td>\n",
       "      <td>Mr.Bickford is a 7089 year-old patient who com...</td>\n",
       "      <td>present</td>\n",
       "      <td>The patient Mr.Bickford is a nonsmoker who liv...</td>\n",
       "      <td>Blood pressure 147/92 pulse 44 respiratory rat...</td>\n",
       "      <td>I confirm that I have seen and evaluated the p...</td>\n",
       "      <td>The patient was admitted to the hospital with ...</td>\n",
       "    </tr>\n",
       "    <tr>\n",
       "      <th>4</th>\n",
       "      <td>172824291</td>\n",
       "      <td>2012-09-30</td>\n",
       "      <td>2012-09-30 03:44:42</td>\n",
       "      <td>2012-09-30 07:32:36</td>\n",
       "      <td>228</td>\n",
       "      <td>789.02</td>\n",
       "      <td>Abdominal pain left upper quadrant</td>\n",
       "      <td>540.9998.30784.2578.9</td>\n",
       "      <td>NaN</td>\n",
       "      <td>172824291</td>\n",
       "      <td>...</td>\n",
       "      <td>unsigned</td>\n",
       "      <td>Singh Brian M.D.</td>\n",
       "      <td>74556073</td>\n",
       "      <td>Major Academic Center</td>\n",
       "      <td>Ms.Falgoust is a 95 year-old patient who comes...</td>\n",
       "      <td>present</td>\n",
       "      <td>The patient Ms.Falgoust is a past smoker who l...</td>\n",
       "      <td>Blood pressure 117/86 pulse 71 respiratory rat...</td>\n",
       "      <td>I confirm that I have seen and evaluated the p...</td>\n",
       "      <td>The patient was admitted to the hospital with ...</td>\n",
       "    </tr>\n",
       "  </tbody>\n",
       "</table>\n",
       "<p>5 rows × 21 columns</p>\n",
       "</div>"
      ],
      "text/plain": [
       "          0           1                    2                    3    4   \\\n",
       "0  940785937  2013-05-14  2013-05-14 23:59:19  2013-05-15 00:52:57   54   \n",
       "1  412857024  2012-01-20  2012-01-20 22:53:54  2012-01-21 02:51:49  238   \n",
       "2  285331782  2011-12-09  2011-12-09 12:54:56  2011-12-09 17:37:59  283   \n",
       "3  916658044  2011-05-23  2011-05-23 14:12:04  2011-05-23 21:21:44  430   \n",
       "4  172824291  2012-09-30  2012-09-30 03:44:42  2012-09-30 07:32:36  228   \n",
       "\n",
       "       5                                   6                        7   8   \\\n",
       "0   724.2                             Lumbago   719.46786.2786.2V62.85 NaN   \n",
       "1   781.0      Abnormal involuntary movements                      NaN NaN   \n",
       "2  786.59                    Other chest pain  996.73719.46724.2959.09 NaN   \n",
       "3   780.4             Dizziness and giddiness  719.46820.8789.01780.50 NaN   \n",
       "4  789.02  Abdominal pain left upper quadrant    540.9998.30784.2578.9 NaN   \n",
       "\n",
       "          9                         ...                                11  \\\n",
       "0  940785937                        ...                             final   \n",
       "1  412857024                        ...                             final   \n",
       "2  285331782                        ...                             final   \n",
       "3  916658044                        ...                             final   \n",
       "4  172824291                        ...                          unsigned   \n",
       "\n",
       "                    12        13                     14  \\\n",
       "0    Waldorff Kim M.D.  39222202  Major Academic Center   \n",
       "1     Jameson Jan M.D.  64675539  Major Academic Center   \n",
       "2    Patel Monica M.D.  80312742  Major Academic Center   \n",
       "3  Smith Jonathan M.D.  85382431  Major Academic Center   \n",
       "4     Singh Brian M.D.  74556073  Major Academic Center   \n",
       "\n",
       "                                                  15       16  \\\n",
       "0  Ms.Mozingo is a 58 year-old patient who comes ...     none   \n",
       "1  Ms.Mccranie is a 95 year-old patient who comes...  present   \n",
       "2  Ms.Wheeler is a 56 year-old patient who comes ...     none   \n",
       "3  Mr.Bickford is a 7089 year-old patient who com...  present   \n",
       "4  Ms.Falgoust is a 95 year-old patient who comes...  present   \n",
       "\n",
       "                                                  17  \\\n",
       "0  The patient Ms.Mozingo is a past smoker who ha...   \n",
       "1  The patient Ms.Mccranie is a current smoker wh...   \n",
       "2  The patient Ms.Wheeler is a current smoker who...   \n",
       "3  The patient Mr.Bickford is a nonsmoker who liv...   \n",
       "4  The patient Ms.Falgoust is a past smoker who l...   \n",
       "\n",
       "                                                  18  \\\n",
       "0  Blood pressure 140/60 pulse 55 respiratory rat...   \n",
       "1  Blood pressure 162/87 pulse 70 respiratory rat...   \n",
       "2  Blood pressure 154/93 pulse 60 respiratory rat...   \n",
       "3  Blood pressure 147/92 pulse 44 respiratory rat...   \n",
       "4  Blood pressure 117/86 pulse 71 respiratory rat...   \n",
       "\n",
       "                                                  19  \\\n",
       "0  I confirm that I have seen and evaluated the p...   \n",
       "1  I confirm that I have seen and evaluated the p...   \n",
       "2  I confirm that I have seen and evaluated the p...   \n",
       "3  I confirm that I have seen and evaluated the p...   \n",
       "4  I confirm that I have seen and evaluated the p...   \n",
       "\n",
       "                                                  20  \n",
       "0  The patient was placed in ED observation with ...  \n",
       "1  The patient was admitted to the hospital with ...  \n",
       "2  The patient was admitted to the hospital with ...  \n",
       "3  The patient was admitted to the hospital with ...  \n",
       "4  The patient was admitted to the hospital with ...  \n",
       "\n",
       "[5 rows x 21 columns]"
      ]
     },
     "execution_count": 131,
     "metadata": {},
     "output_type": "execute_result"
    }
   ],
   "source": [
    "dframe.head()"
   ]
  },
  {
   "cell_type": "code",
   "execution_count": 151,
   "metadata": {
    "collapsed": false
   },
   "outputs": [
    {
     "data": {
      "text/html": [
       "<div>\n",
       "<table border=\"1\" class=\"dataframe\">\n",
       "  <thead>\n",
       "    <tr style=\"text-align: right;\">\n",
       "      <th></th>\n",
       "      <th>0</th>\n",
       "      <th>1</th>\n",
       "      <th>2</th>\n",
       "      <th>3</th>\n",
       "      <th>4</th>\n",
       "      <th>5</th>\n",
       "      <th>6</th>\n",
       "      <th>7</th>\n",
       "      <th>8</th>\n",
       "      <th>9</th>\n",
       "      <th>...</th>\n",
       "      <th>11</th>\n",
       "      <th>12</th>\n",
       "      <th>13</th>\n",
       "      <th>14</th>\n",
       "      <th>15</th>\n",
       "      <th>16</th>\n",
       "      <th>17</th>\n",
       "      <th>18</th>\n",
       "      <th>19</th>\n",
       "      <th>20</th>\n",
       "    </tr>\n",
       "  </thead>\n",
       "  <tbody>\n",
       "    <tr>\n",
       "      <th>0</th>\n",
       "      <td>940785937</td>\n",
       "      <td>2013-05-14</td>\n",
       "      <td>2013-05-14 23:59:19</td>\n",
       "      <td>2013-05-15 00:52:57</td>\n",
       "      <td>54</td>\n",
       "      <td>724.2</td>\n",
       "      <td>Lumbago</td>\n",
       "      <td>719.46786.2786.2V62.85</td>\n",
       "      <td>NaN</td>\n",
       "      <td>940785937</td>\n",
       "      <td>...</td>\n",
       "      <td>final</td>\n",
       "      <td>Waldorff Kim M.D.</td>\n",
       "      <td>39222202</td>\n",
       "      <td>Major Academic Center</td>\n",
       "      <td>Ms.Mozingo is a 58 year-old patient who comes ...</td>\n",
       "      <td>none</td>\n",
       "      <td>The patient Ms.Mozingo is a past smoker who ha...</td>\n",
       "      <td>Blood pressure 140/60 pulse 55 respiratory rat...</td>\n",
       "      <td>I confirm that I have seen and evaluated the p...</td>\n",
       "      <td>The patient was placed in ED observation with ...</td>\n",
       "    </tr>\n",
       "    <tr>\n",
       "      <th>457</th>\n",
       "      <td>940785937</td>\n",
       "      <td>2012-01-16</td>\n",
       "      <td>2012-01-16 06:18:17</td>\n",
       "      <td>2012-01-16 10:59:22</td>\n",
       "      <td>281</td>\n",
       "      <td>079.99</td>\n",
       "      <td>Unspecified viral infection</td>\n",
       "      <td>789.00780.60719.46786.2</td>\n",
       "      <td>NaN</td>\n",
       "      <td>940785937</td>\n",
       "      <td>...</td>\n",
       "      <td>final</td>\n",
       "      <td>Dirichlet Amir M.D.</td>\n",
       "      <td>29650563</td>\n",
       "      <td>Major Academic Center</td>\n",
       "      <td>Ms.Mozingo is a 4057 year-old patient who come...</td>\n",
       "      <td>none</td>\n",
       "      <td>The patient Ms.Mozingo is a nonsmoker who live...</td>\n",
       "      <td>Blood pressure 150/90 pulse 60 respiratory rat...</td>\n",
       "      <td>I confirm that I have seen and evaluated the p...</td>\n",
       "      <td>The patient was admitted to the hospital with ...</td>\n",
       "    </tr>\n",
       "    <tr>\n",
       "      <th>569</th>\n",
       "      <td>940785937</td>\n",
       "      <td>2010-03-21</td>\n",
       "      <td>2010-03-21 07:19:18</td>\n",
       "      <td>2010-03-21 11:47:57</td>\n",
       "      <td>269</td>\n",
       "      <td>724.5</td>\n",
       "      <td>Backache unspecified</td>\n",
       "      <td>V62.85682.4719.46786.2</td>\n",
       "      <td>NaN</td>\n",
       "      <td>940785937</td>\n",
       "      <td>...</td>\n",
       "      <td>final</td>\n",
       "      <td>Jameson Jan M.D.</td>\n",
       "      <td>64675539</td>\n",
       "      <td>Major Academic Center</td>\n",
       "      <td>Ms.Mozingo is a 55 year-old patient who comes ...</td>\n",
       "      <td>none</td>\n",
       "      <td>The patient Ms.Mozingo is a current smoker who...</td>\n",
       "      <td>Blood pressure 151/82 pulse 69 respiratory rat...</td>\n",
       "      <td>I confirm that I have seen and evaluated the p...</td>\n",
       "      <td>The patient was placed in ED observation with ...</td>\n",
       "    </tr>\n",
       "  </tbody>\n",
       "</table>\n",
       "<p>3 rows × 21 columns</p>\n",
       "</div>"
      ],
      "text/plain": [
       "            0           1                    2                    3    4   \\\n",
       "0    940785937  2013-05-14  2013-05-14 23:59:19  2013-05-15 00:52:57   54   \n",
       "457  940785937  2012-01-16  2012-01-16 06:18:17  2012-01-16 10:59:22  281   \n",
       "569  940785937  2010-03-21  2010-03-21 07:19:18  2010-03-21 11:47:57  269   \n",
       "\n",
       "         5                            6                        7   8   \\\n",
       "0     724.2                      Lumbago   719.46786.2786.2V62.85 NaN   \n",
       "457  079.99  Unspecified viral infection  789.00780.60719.46786.2 NaN   \n",
       "569   724.5         Backache unspecified   V62.85682.4719.46786.2 NaN   \n",
       "\n",
       "            9                         ...                             11  \\\n",
       "0    940785937                        ...                          final   \n",
       "457  940785937                        ...                          final   \n",
       "569  940785937                        ...                          final   \n",
       "\n",
       "                      12        13                     14  \\\n",
       "0      Waldorff Kim M.D.  39222202  Major Academic Center   \n",
       "457  Dirichlet Amir M.D.  29650563  Major Academic Center   \n",
       "569     Jameson Jan M.D.  64675539  Major Academic Center   \n",
       "\n",
       "                                                    15    16  \\\n",
       "0    Ms.Mozingo is a 58 year-old patient who comes ...  none   \n",
       "457  Ms.Mozingo is a 4057 year-old patient who come...  none   \n",
       "569  Ms.Mozingo is a 55 year-old patient who comes ...  none   \n",
       "\n",
       "                                                    17  \\\n",
       "0    The patient Ms.Mozingo is a past smoker who ha...   \n",
       "457  The patient Ms.Mozingo is a nonsmoker who live...   \n",
       "569  The patient Ms.Mozingo is a current smoker who...   \n",
       "\n",
       "                                                    18  \\\n",
       "0    Blood pressure 140/60 pulse 55 respiratory rat...   \n",
       "457  Blood pressure 150/90 pulse 60 respiratory rat...   \n",
       "569  Blood pressure 151/82 pulse 69 respiratory rat...   \n",
       "\n",
       "                                                    19  \\\n",
       "0    I confirm that I have seen and evaluated the p...   \n",
       "457  I confirm that I have seen and evaluated the p...   \n",
       "569  I confirm that I have seen and evaluated the p...   \n",
       "\n",
       "                                                    20  \n",
       "0    The patient was placed in ED observation with ...  \n",
       "457  The patient was admitted to the hospital with ...  \n",
       "569  The patient was placed in ED observation with ...  \n",
       "\n",
       "[3 rows x 21 columns]"
      ]
     },
     "execution_count": 151,
     "metadata": {},
     "output_type": "execute_result"
    }
   ],
   "source": [
    "dframe[dframe[0] == 940785937]"
   ]
  },
  {
   "cell_type": "code",
   "execution_count": null,
   "metadata": {
    "collapsed": true
   },
   "outputs": [],
   "source": []
  }
 ],
 "metadata": {
  "kernelspec": {
   "display_name": "Python 2",
   "language": "python",
   "name": "python2"
  },
  "language_info": {
   "codemirror_mode": {
    "name": "ipython",
    "version": 2
   },
   "file_extension": ".py",
   "mimetype": "text/x-python",
   "name": "python",
   "nbconvert_exporter": "python",
   "pygments_lexer": "ipython2",
   "version": "2.7.11"
  }
 },
 "nbformat": 4,
 "nbformat_minor": 0
}
